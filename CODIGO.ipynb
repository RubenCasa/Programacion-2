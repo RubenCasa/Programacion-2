{
 "cells": [
  {
   "cell_type": "markdown",
   "metadata": {},
   "source": [
    "Unidad 1: PROGRAMACIÓN ORIENTADA A OBJETOS (POO)"
   ]
  },
  {
   "cell_type": "markdown",
   "metadata": {},
   "source": [
    "1. Definir una clase Flor que represente las características \n",
    "principales de una flor de la data set Iris"
   ]
  },
  {
   "cell_type": "code",
   "execution_count": 30,
   "metadata": {},
   "outputs": [
    {
     "name": "stdout",
     "output_type": "stream",
     "text": [
      "Flor: Especie=Iris-setosa, Longitud Sépalo=5.2, Ancho Sépalo=3.5, Longitud Pétalo=1.4, Ancho Pétalo=0.2\n",
      "Flor: Especie=Iris-setosa, Longitud Sépalo=4.9, Ancho Sépalo=3.1, Longitud Pétalo=1.4, Ancho Pétalo=0.2\n",
      "Flor: Especie=Iris-versicolor, Longitud Sépalo=6.3, Ancho Sépalo=3.3, Longitud Pétalo=5.0, Ancho Pétalo=1.6\n"
     ]
    }
   ],
   "source": [
    "import math\n",
    "class Flor:\n",
    "    \"\"\"\n",
    "    1.1.La clase Flor representa una flor del dataset Iris con los atributos\n",
    "    longitud_sepalo, ancho_sepalo, longitud_petalo, ancho_petalo y especie.\n",
    "    Todos los atributos son privados.\n",
    "    \"\"\"\n",
    "    \"\"\"\n",
    "    1.2.Implementar el método __init__ para inicializar los \n",
    "    atributos\n",
    "    \"\"\"\n",
    "\n",
    "    def __init__(self, longitud_sepalo, ancho_sepalo, longitud_petalo, ancho_petalo, especie):\n",
    "        # Inicialización de atributos privados\n",
    "        self.__longitud_sepalo = longitud_sepalo\n",
    "        self.__ancho_sepalo = ancho_sepalo\n",
    "        self.__longitud_petalo = longitud_petalo\n",
    "        self.__ancho_petalo = ancho_petalo\n",
    "        self.__especie = especie\n",
    "        \n",
    "    \"\"\"\n",
    "    1.3.Añadir métodos getters y setters para cada uno \n",
    "    de los atributos privados para permitir el acceso y \n",
    "    modificación de manera controlada.\n",
    "    \"\"\"\n",
    "\n",
    "    # Métodos getters\n",
    "    def get_longitud_sepalo(self):\n",
    "        return self.__longitud_sepalo\n",
    "\n",
    "    def get_ancho_sepalo(self):\n",
    "        return self.__ancho_sepalo\n",
    "\n",
    "    def get_longitud_petalo(self):\n",
    "        return self.__longitud_petalo\n",
    "\n",
    "    def get_ancho_petalo(self):\n",
    "        return self.__ancho_petalo\n",
    "\n",
    "    def get_especie(self):\n",
    "        return self.__especie\n",
    "\n",
    "    # Métodos setters\n",
    "    def set_longitud_sepalo(self, longitud_sepalo):\n",
    "        self.__longitud_sepalo = longitud_sepalo\n",
    "\n",
    "    def set_ancho_sepalo(self, ancho_sepalo):\n",
    "        self.__ancho_sepalo = ancho_sepalo\n",
    "\n",
    "    def set_longitud_petalo(self, longitud_petalo):\n",
    "        self.__longitud_petalo = longitud_petalo\n",
    "\n",
    "    def set_ancho_petalo(self, ancho_petalo):\n",
    "        self.__ancho_petalo = ancho_petalo\n",
    "\n",
    "    def set_especie(self, especie):\n",
    "        self.__especie = especie\n",
    "    \n",
    "    \"\"\"\n",
    "    1.4.Definir un método __str__ que permita mostrar los \n",
    "    detalles de la flor en un formato legible\n",
    "    \"\"\"\n",
    "\n",
    "    # Método __str__ para mostrar detalles de la flor\n",
    "    def __str__(self):\n",
    "        return (f\"Flor: Especie={self.__especie}, \"\n",
    "                f\"Longitud Sépalo={self.__longitud_sepalo}, Ancho Sépalo={self.__ancho_sepalo}, \"\n",
    "                f\"Longitud Pétalo={self.__longitud_petalo}, Ancho Pétalo={self.__ancho_petalo}\")\n",
    "\n",
    "\"\"\"\n",
    "1.5.Crear al menos tres objetos Flor utilizando datos \n",
    "del dataset Iris. Utilizar los métodos getters y setters \n",
    "para modificar algunos de los atributos y mostrar \n",
    "los cambios con el método __str__.\n",
    "\"\"\"\n",
    "# Crear al menos tres objetos Flor utilizando datos del dataset Iris\n",
    "flor1 = Flor(5.1, 3.5, 1.4, 0.2, \"Iris-setosa\")\n",
    "flor2 = Flor(4.9, 3.0, 1.4, 0.2, \"Iris-setosa\")\n",
    "flor3 = Flor(6.3, 3.3, 4.7, 1.6, \"Iris-versicolor\")\n",
    "\n",
    "# Modificar algunos atributos usando setters\n",
    "flor1.set_longitud_sepalo(5.2)  # Cambia longitud del sépalo en flor1\n",
    "flor2.set_ancho_sepalo(3.1)     # Cambia ancho del sépalo en flor2\n",
    "flor3.set_longitud_petalo(5.0)  # Cambia longitud del pétalo en flor3\n",
    "\n",
    "# Mostrar los detalles de las flores después de los cambios usando __str__\n",
    "print(flor1)  # Imprime los detalles de flor1\n",
    "print(flor2)  # Imprime los detalles de flor2\n",
    "print(flor3)  # Imprime los detalles de flor3 "
   ]
  },
  {
   "cell_type": "markdown",
   "metadata": {},
   "source": [
    "2. Implementar una clase abstracta Clasificador con un \n",
    "método abstracto clasificar ()."
   ]
  },
  {
   "cell_type": "code",
   "execution_count": 84,
   "metadata": {},
   "outputs": [],
   "source": [
    "from abc import ABC, abstractmethod\n",
    "\n",
    "# Clase abstracta Clasificador\n",
    "class Clasificador(ABC):\n",
    "    \"\"\"\n",
    "    Clase abstracta Clasificador que define el método abstracto clasificar().\n",
    "    \"\"\"\n",
    "    \n",
    "    @abstractmethod\n",
    "    def clasificar(self, flor):\n",
    "        \"\"\"\n",
    "        Método abstracto para clasificar una flor.\n",
    "        \"\"\"\n",
    "        pass"
   ]
  },
  {
   "cell_type": "markdown",
   "metadata": {},
   "source": [
    "3. Crear una subclase ClasificadorIris que herede de \n",
    "Clasificador y que implemente el método clasificar () \n",
    "\n",
    " para clasificar flores según la longitud del pétalo"
   ]
  },
  {
   "cell_type": "code",
   "execution_count": 90,
   "metadata": {},
   "outputs": [
    {
     "name": "stdout",
     "output_type": "stream",
     "text": [
      "Flor 1 es clasificada como: Iris-setosa\n",
      "Flor 2 es clasificada como: Iris-setosa\n",
      "Flor 3 es clasificada como: Iris-versicolor\n"
     ]
    }
   ],
   "source": [
    "# Subclase ClasificadorIris que hereda de Clasificador\n",
    "class ClasificadorIris(Clasificador):\n",
    "    \"\"\"\n",
    "    ClasificadorIris clasifica flores del dataset Iris según la longitud del pétalo.\n",
    "    \"\"\"\n",
    "    \n",
    "    def clasificar(self, flor):\n",
    "        \"\"\"\n",
    "        Clasifica la flor según la longitud del pétalo.\n",
    "        Parámetros:\n",
    "            flor (Flor): Objeto de la clase Flor.\n",
    "        Retorna:\n",
    "            str: Clasificación basada en la longitud del pétalo.\n",
    "        \"\"\"\n",
    "        if flor.get_longitud_petalo() < 2:\n",
    "            return \"Iris-setosa\"\n",
    "        elif 2 <= flor.get_longitud_petalo() < 5:\n",
    "            return \"Iris-versicolor\"\n",
    "        else:\n",
    "            return \"Iris-virginica\"\n",
    "\n",
    "# Pruebas\n",
    "flor1 = Flor(5.1, 3.5, 1.4, 0.2, \"Iris-setosa\")\n",
    "flor2 = Flor(4.9, 3.0, 1.4, 0.2, \"Iris-versicolor\")\n",
    "flor3 = Flor(6.3, 3.3, 4.7, 1.6, \"Iris-virginica\")\n",
    "\n",
    "# Crear una instancia del clasificador\n",
    "clasificador = ClasificadorIris()\n",
    "\n",
    "# Clasificar las flores\n",
    "print(f\"Flor 1 es clasificada como: {clasificador.clasificar(flor1)}\")\n",
    "print(f\"Flor 2 es clasificada como: {clasificador.clasificar(flor2)}\")\n",
    "print(f\"Flor 3 es clasificada como: {clasificador.clasificar(flor3)}\")\n"
   ]
  },
  {
   "cell_type": "markdown",
   "metadata": {},
   "source": [
    "4. Añadir un método calcular_distancia() a la clase Flor \n",
    "\n",
    "para calcular la distancia euclidiana entre dos instancias \n",
    "de Flor"
   ]
  },
  {
   "cell_type": "code",
   "execution_count": 91,
   "metadata": {},
   "outputs": [],
   "source": [
    "def calcular_distancia(self, otra_flor):\n",
    "        \"\"\"\n",
    "        Calcula la distancia euclidiana entre esta flor y otra instancia de Flor.\n",
    "        Parámetros:\n",
    "            otra_flor (Flor): Otra instancia de la clase Flor para calcular la distancia.\n",
    "        Retorna:\n",
    "            float: Distancia euclidiana entre ambas flores.\n",
    "        \"\"\"\n",
    "        return math.sqrt(\n",
    "            (self.__longitud_sepalo - otra_flor.get_longitud_sepalo()) ** 2 +\n",
    "            (self.__ancho_sepalo - otra_flor.get_ancho_sepalo()) ** 2 +\n",
    "            (self.__longitud_petalo - otra_flor.get_longitud_petalo()) ** 2 +\n",
    "            (self.__ancho_petalo - otra_flor.get_ancho_petalo()) ** 2\n",
    "        )\n",
    "    "
   ]
  },
  {
   "cell_type": "markdown",
   "metadata": {},
   "source": [
    "5. Utilizar este método para comparar dos flores y mostrar\n",
    " \n",
    "cuál de ellas está más cerca de una flor de referencia"
   ]
  },
  {
   "cell_type": "code",
   "execution_count": 92,
   "metadata": {},
   "outputs": [],
   "source": [
    " def comparar_distancia(self, flor1, flor2):\n",
    "        \"\"\"\n",
    "        Compara dos flores y determina cuál está más cerca de la flor de referencia (self).\n",
    "        \"\"\"\n",
    "        distancia_flor1 = self.calcular_distancia(flor1)\n",
    "        distancia_flor2 = self.calcular_distancia(flor2)\n",
    "        \n",
    "        if distancia_flor1 < distancia_flor2:\n",
    "            return f\"{flor1} está más cerca de {self} que {flor2}.\"\n",
    "        elif distancia_flor2 < distancia_flor1:\n",
    "            return f\"{flor2} está más cerca de {self} que {flor1}.\"\n",
    "        else:\n",
    "            return f\"{flor1} y {flor2} están a la misma distancia de {self}.\""
   ]
  },
  {
   "cell_type": "markdown",
   "metadata": {},
   "source": [
    "6. Sobrecargar el operador + para combinar dos flores y \n",
    "\n",
    "obtener una nueva flor con los atributos promedio."
   ]
  },
  {
   "cell_type": "code",
   "execution_count": 93,
   "metadata": {},
   "outputs": [],
   "source": [
    "  # Método para sobrecargar el operador +\n",
    "def __add__(self, otra_flor):\n",
    "        return Flor(\n",
    "            (self.__longitud_sepalo + otra_flor.get_longitud_sepalo()) / 2,\n",
    "            (self.__ancho_sepalo + otra_flor.get_ancho_sepalo()) / 2,\n",
    "            (self.__longitud_petalo + otra_flor.get_longitud_petalo()) / 2,\n",
    "            (self.__ancho_petalo + otra_flor.get_ancho_petalo()) / 2,\n",
    "            \"Promedio\"\n",
    "        )"
   ]
  },
  {
   "cell_type": "markdown",
   "metadata": {},
   "source": [
    "7. Crear al menos dos objetos Flor y utilizar la sobrecarga del \n",
    "\n",
    "operador + para obtener una nueva flor promedio."
   ]
  },
  {
   "cell_type": "code",
   "execution_count": null,
   "metadata": {},
   "outputs": [
    {
     "ename": "IndentationError",
     "evalue": "unindent does not match any outer indentation level (<string>, line 3)",
     "output_type": "error",
     "traceback": [
      "\u001b[1;36m  File \u001b[1;32m<string>:3\u001b[1;36m\u001b[0m\n\u001b[1;33m    flor_b = Flor(4.7, 3.2, 1.3, 0.2, \"Iris-setosa\")\u001b[0m\n\u001b[1;37m                                                    ^\u001b[0m\n\u001b[1;31mIndentationError\u001b[0m\u001b[1;31m:\u001b[0m unindent does not match any outer indentation level\n"
     ]
    }
   ],
   "source": []
  },
  {
   "cell_type": "markdown",
   "metadata": {},
   "source": [
    "8. Añadir un método mágico __mul__ a la clase Flor que \n",
    "\n",
    "permita multiplicar los valores numéricos de una flor por \n",
    "\n",
    "un escalar (número). Implementar un ejercicio que \n",
    "\n",
    "muestre cómo utilizar este método mágico para \n",
    "\n",
    "incrementar en un cierto porcentaje el tamaño de los \n",
    "\n",
    "sépalos y los pétalos de una flor"
   ]
  },
  {
   "cell_type": "code",
   "execution_count": 97,
   "metadata": {},
   "outputs": [
    {
     "ename": "IndentationError",
     "evalue": "unexpected indent (106832109.py, line 23)",
     "output_type": "error",
     "traceback": [
      "\u001b[1;36m  Cell \u001b[1;32mIn[97], line 23\u001b[1;36m\u001b[0m\n\u001b[1;33m    factor_incremento = 1.2\u001b[0m\n\u001b[1;37m    ^\u001b[0m\n\u001b[1;31mIndentationError\u001b[0m\u001b[1;31m:\u001b[0m unexpected indent\n"
     ]
    }
   ],
   "source": [
    "# Método para sobrecargar el operador *\n",
    "def __mul__(self, escalar):\n",
    "        \"\"\"\n",
    "        Multiplica los atributos numéricos de la flor por un escalar.\n",
    "        Parámetros:\n",
    "            escalar (float): Número por el cual se multiplicarán los atributos numéricos.\n",
    "        Retorna:\n",
    "            Flor: Nueva instancia de Flor con los atributos multiplicados por el escalar.\n",
    "        \"\"\"\n",
    "        return Flor(\n",
    "            self.__longitud_sepalo * escalar,\n",
    "            self.__ancho_sepalo * escalar,\n",
    "            self.__longitud_petalo * escalar,\n",
    "            self.__ancho_petalo * escalar,\n",
    "            self.__especie\n",
    "        )\n",
    "\n",
    "# Ejemplo de uso del método __mul__ para incrementar el tamaño de la flor\n",
    "# Creo una instancia de la clase Flor\n",
    "flor_original = Flor(5.0, 3.5, 1.4, 0.2, \"Iris-setosa\")\n",
    "\n",
    "# Escalar para incrementar en un 20% (1.2 = 100% + 20%)\n",
    "    factor_incremento = 1.2\n",
    "\n",
    "# Uso la sobrecarga del operador * para obtener una nueva flor con los atributos escalados\n",
    "flor_incrementada = flor_original * factor_incremento\n",
    "\n",
    "# Muestro el resultado antes y después del incremento\n",
    "print(\"Flor original:\")\n",
    "print(flor_original)\n",
    "\n",
    "print(\"\\nFlor incrementada en un 20%:\")\n",
    "print(flor_incrementada)\n"
   ]
  },
  {
   "cell_type": "markdown",
   "metadata": {},
   "source": [
    "Cálculo de Distancias Adicionales:\n",
    "\n",
    "Modificar la clase Flor para incluir métodos que permitan calcular \n",
    "\n",
    "diferentes tipos de distancias que admitan los cuatro atributos \n",
    "\n",
    "(longitud_sepalo, ancho_sepalo, longitud_petalo, \n",
    "\n",
    "ancho_petalo). Además de la distancia euclidiana, implementar \n",
    "\n",
    "al menos otros dos tipos de distancias como la distancia de \n",
    "\n",
    "Manhattan y la distancia de Minkowski.\n",
    "\n",
    "• Añadir métodos adicionales a la clase Flor para calcular \n",
    "\n",
    "la distancia de Manhattan y la distancia de Minkowski \n",
    "\n",
    "entre dos instancias de la clase.\n",
    "\n",
    "• Crear varias instancias de Flor y utilizar estos métodos \n",
    "\n",
    "para comparar las distancias entre diferentes flores.\n",
    "\n",
    "• Documentar el proceso y explicar en tus palabras cómo \n",
    "\n",
    "y por qué funcionan los diferentes cálculos de distancia \n",
    "\n",
    "en Python.\n"
   ]
  },
  {
   "cell_type": "code",
   "execution_count": null,
   "metadata": {},
   "outputs": [
    {
     "name": "stdout",
     "output_type": "stream",
     "text": [
      "Distancia Euclidiana: 3.7854986461495406\n",
      "Distancia de Manhattan: 6.100000000000001\n",
      "Distancia de Minkowski (p=3): 3.4317951656610663\n"
     ]
    }
   ],
   "source": [
    "import math\n",
    "\n",
    "class Flor:\n",
    "    def __init__(self, longitud_sepalo, ancho_sepalo, longitud_petalo, ancho_petalo, especie):\n",
    "        self.__longitud_sepalo = longitud_sepalo\n",
    "        self.__ancho_sepalo = ancho_sepalo\n",
    "        self.__longitud_petalo = longitud_petalo\n",
    "        self.__ancho_petalo = ancho_petalo\n",
    "        self.__especie = especie\n",
    "\n",
    "    # Getters\n",
    "    def get_longitud_sepalo(self):\n",
    "        return self.__longitud_sepalo\n",
    "\n",
    "    def get_ancho_sepalo(self):\n",
    "        return self.__ancho_sepalo\n",
    "\n",
    "    def get_longitud_petalo(self):\n",
    "        return self.__longitud_petalo\n",
    "\n",
    "    def get_ancho_petalo(self):\n",
    "        return self.__ancho_petalo\n",
    "\n",
    "    # Método para calcular distancia Euclidiana\n",
    "    def calcular_distancia_euclidiana(self, otra_flor):\n",
    "        return math.sqrt(\n",
    "            (self.__longitud_sepalo - otra_flor.get_longitud_sepalo()) ** 2 +\n",
    "            (self.__ancho_sepalo - otra_flor.get_ancho_sepalo()) ** 2 +\n",
    "            (self.__longitud_petalo - otra_flor.get_longitud_petalo()) ** 2 +\n",
    "            (self.__ancho_petalo - otra_flor.get_ancho_petalo()) ** 2\n",
    "        )\n",
    "\n",
    "    # Método para calcular distancia de Manhattan\n",
    "    def calcular_distancia_manhattan(self, otra_flor):\n",
    "        return (\n",
    "            abs(self.__longitud_sepalo - otra_flor.get_longitud_sepalo()) +\n",
    "            abs(self.__ancho_sepalo - otra_flor.get_ancho_sepalo()) +\n",
    "            abs(self.__longitud_petalo - otra_flor.get_longitud_petalo()) +\n",
    "            abs(self.__ancho_petalo - otra_flor.get_ancho_petalo())\n",
    "        )\n",
    "\n",
    "    # Método para calcular distancia de Minkowski\n",
    "    def calcular_distancia_minkowski(self, otra_flor, p):\n",
    "        return (\n",
    "            (abs(self.__longitud_sepalo - otra_flor.get_longitud_sepalo()) ** p +\n",
    "             abs(self.__ancho_sepalo - otra_flor.get_ancho_sepalo()) ** p +\n",
    "             abs(self.__longitud_petalo - otra_flor.get_longitud_petalo()) ** p +\n",
    "             abs(self.__ancho_petalo - otra_flor.get_ancho_petalo()) ** p) ** (1 / p)\n",
    "        )\n",
    "\n",
    "    def __str__(self):\n",
    "        return (f\"Flor: Especie={self.__especie}, \"\n",
    "                f\"Longitud Sépalo={self.__longitud_sepalo}, Ancho Sépalo={self.__ancho_sepalo}, \"\n",
    "                f\"Longitud Pétalo={self.__longitud_petalo}, Ancho Pétalo={self.__ancho_petalo}\")\n",
    "\n",
    "# Ejemplo de uso de los métodos de cálculo de distancia\n",
    "# Crear dos instancias de la clase Flor\n",
    "flor1 = Flor(5.1, 3.5, 1.4, 0.2, \"Iris-setosa\")\n",
    "flor3 = Flor(6.3, 3.3, 4.7, 1.6, \"Iris-versicolor\")\n",
    "\n",
    "# Calcular las distancias entre flor1 y flor2\n",
    "distancia_euclidiana = flor1.calcular_distancia_euclidiana(flor2)\n",
    "distancia_manhattan = flor1.calcular_distancia_manhattan(flor2)\n",
    "distancia_minkowski = flor1.calcular_distancia_minkowski(flor2, p=3)  # Ejemplo con p=3\n",
    "\n",
    "# Mostrar los resultados\n",
    "print(\"Distancia Euclidiana:\", distancia_euclidiana)\n",
    "print(\"Distancia de Manhattan:\", distancia_manhattan)\n",
    "print(\"Distancia de Minkowski (p=3):\", distancia_minkowski)\n"
   ]
  }
 ],
 "metadata": {
  "kernelspec": {
   "display_name": "Program_2",
   "language": "python",
   "name": "python3"
  },
  "language_info": {
   "codemirror_mode": {
    "name": "ipython",
    "version": 3
   },
   "file_extension": ".py",
   "mimetype": "text/x-python",
   "name": "python",
   "nbconvert_exporter": "python",
   "pygments_lexer": "ipython3",
   "version": "3.12.7"
  }
 },
 "nbformat": 4,
 "nbformat_minor": 2
}
